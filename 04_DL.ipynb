{
  "nbformat": 4,
  "nbformat_minor": 0,
  "metadata": {
    "colab": {
      "provenance": [],
      "gpuType": "T4"
    },
    "kernelspec": {
      "name": "python3",
      "display_name": "Python 3"
    },
    "language_info": {
      "name": "python"
    },
    "accelerator": "GPU"
  },
  "cells": [
    {
      "cell_type": "code",
      "source": [
        "import torch\n",
        "import torchvision.transforms as transforms\n",
        "from torch.utils.data import DataLoader\n",
        "import torchvision.models as models\n",
        "import torch.nn as nn\n",
        "import torch.optim as optim\n",
        "\n",
        "# Generate synthetic training and validation data\n",
        "train_data = torch.randn((1000, 3, 224, 224))  # Example: 1000 training samples\n",
        "train_labels = torch.randint(0, 2, (1000,))  # Example: Binary classification labels\n",
        "val_data = torch.randn((200, 3, 224, 224))  # Example: 200 validation samples\n",
        "val_labels = torch.randint(0, 2, (200,))  # Example: Binary classification labels\n",
        "\n",
        "# Define data preprocessing and augmentation transforms\n",
        "preprocess = transforms.Compose([\n",
        "    transforms.ToPILImage(),\n",
        "    transforms.Resize((224, 224)),\n",
        "    transforms.ToTensor(),\n",
        "    transforms.Normalize(mean=[0.485, 0.456, 0.406], std=[0.229, 0.224, 0.225])\n",
        "])\n",
        "\n",
        "# Load the synthetic dataset\n",
        "class SyntheticDataset(torch.utils.data.Dataset):\n",
        "    def __init__(self, data, labels, transform=None):\n",
        "        self.data = data\n",
        "        self.labels = labels\n",
        "        self.transform = transform\n",
        "    \n",
        "    def __len__(self):\n",
        "        return len(self.data)\n",
        "    \n",
        "    def __getitem__(self, index):\n",
        "        x = self.data[index]\n",
        "        y = self.labels[index]\n",
        "        \n",
        "        if self.transform:\n",
        "            x = self.transform(x)\n",
        "        \n",
        "        return x, y\n",
        "\n",
        "train_dataset = SyntheticDataset(train_data, train_labels, transform=preprocess)\n",
        "val_dataset = SyntheticDataset(val_data, val_labels, transform=preprocess)\n",
        "\n",
        "# Define data loaders\n",
        "batch_size = 16\n",
        "train_dataloader = DataLoader(train_dataset, batch_size=batch_size, shuffle=True)\n",
        "val_dataloader = DataLoader(val_dataset, batch_size=batch_size, shuffle=False)\n",
        "\n",
        "base_model = models.resnet50(pretrained=True)\n",
        "num_features = base_model.fc.in_features\n",
        "\n",
        "# Replace the fully connected layer for object detection\n",
        "num_classes = 2  # Example: 2 classes (binary classification)\n",
        "base_model.fc = nn.Linear(num_features, num_classes)\n",
        "\n",
        "# Transfer the model to GPU if available\n",
        "device = torch.device(\"cuda\" if torch.cuda.is_available() else \"cpu\")\n",
        "model = base_model.to(device)\n",
        "\n",
        "# Define the loss function and optimizer\n",
        "criterion = nn.CrossEntropyLoss()\n",
        "optimizer = optim.SGD(model.parameters(), lr=0.001, momentum=0.9)\n",
        "\n",
        "# Train the model\n",
        "num_epochs = 10\n",
        "for epoch in range(num_epochs):\n",
        "    running_loss = 0.0\n",
        "    model.train()\n",
        "    for inputs, labels in train_dataloader:\n",
        "        inputs = inputs.to(device)\n",
        "        labels = labels.to(device)\n",
        "        \n",
        "        optimizer.zero_grad()\n",
        "        \n",
        "        outputs = model(inputs)\n",
        "        loss = criterion(outputs, labels)\n",
        "        loss.backward()\n",
        "        optimizer.step()\n",
        "        \n",
        "        running_loss += loss.item()\n",
        "    \n",
        "    model.eval()\n",
        "    with torch.no_grad():\n",
        "        correct = 0\n",
        "        total = 0\n",
        "        for inputs, labels in val_dataloader:\n",
        "            inputs = inputs.to(device)\n",
        "            labels = labels.to(device)\n",
        "            \n",
        "            outputs = model(inputs)\n",
        "            _, predicted = torch.max(outputs.data, 1)\n",
        "            \n",
        "            total += labels.size(0)\n",
        "            correct += (predicted == labels).sum().item()\n",
        "        \n",
        "        accuracy = 100 * correct / total\n",
        "        print('Epoch {}: Loss {:.4f} | Validation Accuracy {:.2f}%'.format(epoch+1, running_loss / len(train_dataloader), accuracy))\n"
      ],
      "metadata": {
        "colab": {
          "base_uri": "https://localhost:8080/"
        },
        "id": "3e-WKZdRhxkp",
        "outputId": "86e01c58-da4a-4cc4-e475-af137051126e"
      },
      "execution_count": 2,
      "outputs": [
        {
          "output_type": "stream",
          "name": "stderr",
          "text": [
            "/usr/local/lib/python3.10/dist-packages/torchvision/models/_utils.py:208: UserWarning: The parameter 'pretrained' is deprecated since 0.13 and may be removed in the future, please use 'weights' instead.\n",
            "  warnings.warn(\n",
            "/usr/local/lib/python3.10/dist-packages/torchvision/models/_utils.py:223: UserWarning: Arguments other than a weight enum or `None` for 'weights' are deprecated since 0.13 and may be removed in the future. The current behavior is equivalent to passing `weights=ResNet50_Weights.IMAGENET1K_V1`. You can also use `weights=ResNet50_Weights.DEFAULT` to get the most up-to-date weights.\n",
            "  warnings.warn(msg)\n",
            "Downloading: \"https://download.pytorch.org/models/resnet50-0676ba61.pth\" to /root/.cache/torch/hub/checkpoints/resnet50-0676ba61.pth\n",
            "100%|██████████| 97.8M/97.8M [00:00<00:00, 275MB/s]\n"
          ]
        },
        {
          "output_type": "stream",
          "name": "stdout",
          "text": [
            "Epoch 1: Loss 0.7342 | Validation Accuracy 58.00%\n",
            "Epoch 2: Loss 0.3150 | Validation Accuracy 51.00%\n",
            "Epoch 3: Loss 0.0794 | Validation Accuracy 50.50%\n",
            "Epoch 4: Loss 0.0803 | Validation Accuracy 49.00%\n",
            "Epoch 5: Loss 0.1839 | Validation Accuracy 48.50%\n",
            "Epoch 6: Loss 0.4670 | Validation Accuracy 55.00%\n",
            "Epoch 7: Loss 0.3651 | Validation Accuracy 44.50%\n",
            "Epoch 8: Loss 0.2052 | Validation Accuracy 43.50%\n",
            "Epoch 9: Loss 0.1203 | Validation Accuracy 48.50%\n",
            "Epoch 10: Loss 0.0494 | Validation Accuracy 49.00%\n"
          ]
        }
      ]
    },
    {
      "cell_type": "code",
      "source": [],
      "metadata": {
        "id": "erKJprnui0XO"
      },
      "execution_count": null,
      "outputs": []
    }
  ]
}